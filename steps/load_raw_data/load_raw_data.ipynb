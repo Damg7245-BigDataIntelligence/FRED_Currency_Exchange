{
 "cells": [
  {
   "cell_type": "code",
   "execution_count": null,
   "metadata": {
    "vscode": {
     "languageId": "plaintext"
    }
   },
   "outputs": [],
   "source": [
    "# Load Raw Data from S3 to Snowflake\n",
    "#\n",
    "# This notebook loads data from S3 stages to raw tables in Snowflake.\n"
   ]
  },
  {
   "cell_type": "code",
   "execution_count": null,
   "metadata": {
    "vscode": {
     "languageId": "plaintext"
    }
   },
   "outputs": [],
   "source": [
    "\n",
    "# Environment variables - will be replaced by Jinja templating\n",
    "ENV = \"{{env}}\"\n",
    "RAW_SCHEMA = f\"{ENV}_RAW_SCHEMA\"\n",
    "\n",
    "# Define stages\n",
    "STAGES = [\"DAILYCURRENCY_RAW_STAGE\", \"MONTHLYCURRENCYEXCHANGE_RAW_STAGE\"]\n",
    "\n",
    "# Use the current Snowflake session\n",
    "session = snowpark.session()\n",
    "\n",
    "# Create schema if it doesn't exist\n",
    "session.sql(f\"CREATE SCHEMA IF NOT EXISTS FRED_DB.{RAW_SCHEMA}\").collect()\n",
    "print(f\"✅ Schema created/verified for {ENV} environment\")\n",
    "\n",
    "# Iterate over stages\n",
    "for stage in STAGES:\n",
    "    print(f\"🔍 Checking files in stage: {stage}\")\n",
    "\n",
    "    # Get list of CSV files from the stage\n",
    "    list_files_sql = f\"LIST @{stage};\"\n",
    "    files = session.sql(list_files_sql).collect()\n",
    "    \n",
    "    for file in files:\n",
    "        file_path = file[0]  # Full path\n",
    "        file_name = os.path.basename(file_path).split('.')[0]  # Extract filename without extension\n",
    "        table_name = f\"RAW_{file_name.upper()}\"  # Create table name\n",
    "\n",
    "        print(f\"📂 Processing file: {file_name}, creating table: {table_name}\")\n",
    "\n",
    "        # Create table dynamically with inferred schema\n",
    "        create_table_sql = f\"\"\"\n",
    "        CREATE OR REPLACE TABLE {RAW_SCHEMA}.{table_name}\n",
    "        USING TEMPLATE (\n",
    "            SELECT ARRAY_AGG(OBJECT_CONSTRUCT(*)) \n",
    "            FROM TABLE(INFER_SCHEMA(\n",
    "                location => '@{stage}/{file_name}.csv',\n",
    "                FILE_FORMAT => 'CSV_FORMAT'\n",
    "            ))\n",
    "        );\n",
    "        \"\"\"\n",
    "        session.sql(create_table_sql).collect()\n",
    "        print(f\"✅ Created table: {table_name}\")\n",
    "\n",
    "        # Copy data into the table\n",
    "        copy_into_sql = f\"\"\"\n",
    "        COPY INTO {RAW_SCHEMA}.{table_name}\n",
    "        FROM @{stage}/{file_name}.csv\n",
    "        FILE_FORMAT = CSV_FORMAT\n",
    "        MATCH_BY_COLUMN_NAME = CASE_INSENSITIVE;\n",
    "        \"\"\"\n",
    "        session.sql(copy_into_sql).collect()\n",
    "        print(f\"✅ Data loaded into {table_name}\")\n",
    "\n",
    "print(\"🔄 Raw data loading completed.\")"
   ]
  }
 ],
 "metadata": {
  "language_info": {
   "name": "python"
  }
 },
 "nbformat": 4,
 "nbformat_minor": 2
}
